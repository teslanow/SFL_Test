{
 "cells": [
  {
   "cell_type": "code",
   "execution_count": 1,
   "metadata": {},
   "source": [
    "import torch\n",
    "import torchvision\n",
    "\n",
    "import numpy as np\n",
    "import pandas as pd\n",
    "import matplotlib.pyplot as plt\n",
    "import seaborn as sns\n",
    "import sys\n",
    "\n",
    "sys.path.append(\"../../../\")\n",
    "\n",
    "from fedlab.utils.dataset.partition import CIFAR100Partitioner\n",
    "from fedlab.utils.dataset import functional as F\n",
    "from fedlab.utils.functional import partition_report"
   ],
   "outputs": []
  },
  {
   "cell_type": "code",
   "execution_count": 2,
   "metadata": {},
   "source": [
    "trainset = torchvision.datasets.CIFAR100(root=\"../../../../data/CIFAR100/\", train=True, download=True)\n",
    "\n",
    "num_clients = 100\n",
    "num_classes = 100\n",
    "num_display_classes = 10\n",
    "\n",
    "\n",
    "col_names = [f\"class{i}\" for i in range(num_classes)]\n",
    "display_col_names = [f\"class{i}\" for i in range(num_display_classes)]\n",
    "\n",
    "seed = 2021\n",
    "\n",
    "hist_color = '#4169E1'\n",
    "plt.rcParams['figure.facecolor'] = 'white'"
   ],
   "outputs": []
  },
  {
   "attachments": {},
   "cell_type": "markdown",
   "metadata": {},
   "source": [
    "# Hetero Dirichlet"
   ]
  },
  {
   "cell_type": "code",
   "execution_count": 3,
   "metadata": {},
   "source": [
    "# perform partition\n",
    "hetero_dir_part = CIFAR100Partitioner(trainset.targets, \n",
    "                                num_clients,\n",
    "                                balance=None, \n",
    "                                partition=\"dirichlet\",\n",
    "                                dir_alpha=0.3,\n",
    "                                seed=seed)\n",
    "# save to pkl file\n",
    "torch.save(hetero_dir_part.client_dict, \"cifar100_hetero_dir.pkl\")\n",
    "print(len(hetero_dir_part))"
   ],
   "outputs": []
  },
  {
   "cell_type": "code",
   "execution_count": 4,
   "metadata": {},
   "source": [
    "# generate partition report\n",
    "csv_file = \"./partition-reports/cifar100_hetero_dir_0.3_100clients.csv\"\n",
    "partition_report(trainset.targets, hetero_dir_part.client_dict, \n",
    "                 class_num=num_classes, \n",
    "                 verbose=False, file=csv_file)\n",
    "\n",
    "hetero_dir_part_df = pd.read_csv(csv_file,header=1)\n",
    "hetero_dir_part_df = hetero_dir_part_df.set_index('client')\n",
    "for col in col_names:\n",
    "    hetero_dir_part_df[col] = (hetero_dir_part_df[col] * hetero_dir_part_df['Amount']).astype(int)\n",
    "\n",
    "# select first 10 clients and first 10 classes for bar plot\n",
    "hetero_dir_part_df[display_col_names].iloc[:10].plot.barh(stacked=True)  \n",
    "# plt.tight_layout()\n",
    "plt.legend(loc='center left', bbox_to_anchor=(1, 0.5))\n",
    "plt.xlabel('sample num')\n",
    "plt.savefig(f\"./imgs/cifar100_hetero_dir_0.3_100clients.png\", dpi=400, bbox_inches = 'tight')"
   ],
   "outputs": []
  },
  {
   "cell_type": "code",
   "execution_count": 5,
   "metadata": {},
   "source": [
    "# plot sample number distribution for clients\n",
    "clt_sample_num_df = hetero_dir_part.client_sample_count\n",
    "sns.histplot(data=clt_sample_num_df, \n",
    "             x=\"num_samples\", \n",
    "             edgecolor='none', \n",
    "             alpha=0.7, \n",
    "             shrink=0.92,\n",
    "             color=hist_color)\n",
    "plt.savefig(f\"./imgs/cifar100_hetero_dir_0.3_100clients_dist.png\", dpi=400, bbox_inches = 'tight')"
   ],
   "outputs": []
  },
  {
   "attachments": {},
   "cell_type": "markdown",
   "metadata": {},
   "source": [
    "# Shards Partition"
   ]
  },
  {
   "cell_type": "code",
   "execution_count": 6,
   "metadata": {},
   "source": [
    "num_shards = 200\n",
    "shards_part = CIFAR100Partitioner(trainset.targets, \n",
    "                                num_clients,\n",
    "                                balance=None, \n",
    "                                partition=\"shards\",\n",
    "                                num_shards=num_shards,\n",
    "                                seed=seed)\n",
    "# # save to pkl file\n",
    "# torch.save(shards_part.client_dict, \"cifar100_shards.pkl\")\n",
    "print(len(shards_part))"
   ],
   "outputs": []
  },
  {
   "cell_type": "code",
   "execution_count": 7,
   "metadata": {},
   "source": [
    "# generate partition report\n",
    "csv_file = \"./partition-reports/cifar100_shards_200_100clients.csv\"\n",
    "partition_report(trainset.targets, shards_part.client_dict, \n",
    "                 class_num=num_classes, \n",
    "                 verbose=False, file=csv_file)\n",
    "\n",
    "shards_part_df = pd.read_csv(csv_file,header=1)\n",
    "shards_part_df = shards_part_df.set_index('client')\n",
    "for col in col_names:\n",
    "    shards_part_df[col] = (shards_part_df[col] * shards_part_df['Amount']).astype(int)\n",
    "\n",
    "# select first 10 clients for bar plot\n",
    "shards_part_df[display_col_names].iloc[:10].plot.barh(stacked=True)\n",
    "plt.legend(loc='center left', bbox_to_anchor=(1, 0.5))\n",
    "plt.xlabel('sample num')\n",
    "plt.savefig(f\"./imgs/cifar100_shards_200_100clients.png\", dpi=400, bbox_inches = 'tight')"
   ],
   "outputs": []
  },
  {
   "cell_type": "code",
   "execution_count": null,
   "metadata": {},
   "source": [],
   "outputs": []
  },
  {
   "attachments": {},
   "cell_type": "markdown",
   "metadata": {},
   "source": [
    "# Balanced IID"
   ]
  },
  {
   "cell_type": "code",
   "execution_count": 8,
   "metadata": {},
   "source": [
    "balance_iid_part = CIFAR100Partitioner(trainset.targets, \n",
    "                                num_clients,\n",
    "                                balance=True, \n",
    "                                partition=\"iid\",\n",
    "                                seed=seed)\n",
    "# # save to pkl file\n",
    "# torch.save(balance_iid_part.client_dict, \"cifar100_balance_iid.pkl\")\n",
    "print(len(balance_iid_part))"
   ],
   "outputs": []
  },
  {
   "cell_type": "code",
   "execution_count": 9,
   "metadata": {},
   "source": [
    "# generate partition report\n",
    "csv_file = \"./partition-reports/cifar100_balance_iid_100clients.csv\"\n",
    "partition_report(trainset.targets, balance_iid_part.client_dict, \n",
    "                 class_num=num_classes, \n",
    "                 verbose=False, file=csv_file)\n",
    "\n",
    "balance_iid_part_df = pd.read_csv(csv_file,header=1)\n",
    "balance_iid_part_df = balance_iid_part_df.set_index('client')\n",
    "col_names = [f\"class{i}\" for i in range(num_classes)]\n",
    "for col in col_names:\n",
    "    balance_iid_part_df[col] = (balance_iid_part_df[col] * balance_iid_part_df['Amount']).astype(int)\n",
    "\n",
    "# select first 10 clients for bar plot\n",
    "balance_iid_part_df[display_col_names].iloc[:10].plot.barh(stacked=True)  \n",
    "# plt.tight_layout()\n",
    "plt.legend(loc='center left', bbox_to_anchor=(1, 0.5))\n",
    "plt.xlabel('sample num')\n",
    "plt.savefig(f\"./imgs/cifar100_balance_iid_100clients.png\", dpi=400, bbox_inches = 'tight')"
   ],
   "outputs": []
  },
  {
   "cell_type": "code",
   "execution_count": null,
   "metadata": {},
   "source": [],
   "outputs": []
  },
  {
   "attachments": {},
   "cell_type": "markdown",
   "metadata": {},
   "source": [
    "# Unbalanced IID"
   ]
  },
  {
   "cell_type": "code",
   "execution_count": 10,
   "metadata": {},
   "source": [
    "unbalance_iid_part = CIFAR100Partitioner(trainset.targets, \n",
    "                                num_clients,\n",
    "                                balance=False, \n",
    "                                partition=\"iid\",\n",
    "                                unbalance_sgm=0.3,\n",
    "                                seed=seed)\n",
    "# # save to pkl file\n",
    "# torch.save(unbalance_iid_part.client_dict, \"cifar100_unbalance_iid.pkl\")\n",
    "print(len(unbalance_iid_part))"
   ],
   "outputs": []
  },
  {
   "cell_type": "code",
   "execution_count": 11,
   "metadata": {},
   "source": [
    "# generate partition report\n",
    "csv_file = \"./partition-reports/cifar100_unbalance_iid_unbalance_sgm_0.3_100clients.csv\"\n",
    "partition_report(trainset.targets, unbalance_iid_part.client_dict, \n",
    "                 class_num=num_classes, \n",
    "                 verbose=False, file=csv_file)\n",
    "\n",
    "unbalance_iid_part_df = pd.read_csv(csv_file,header=1)\n",
    "unbalance_iid_part_df = unbalance_iid_part_df.set_index('client')\n",
    "for col in col_names:\n",
    "    unbalance_iid_part_df[col] = (unbalance_iid_part_df[col] * unbalance_iid_part_df['Amount']).astype(int)\n",
    "\n",
    "# select first 10 clients for bar plot\n",
    "unbalance_iid_part_df[display_col_names].iloc[:10].plot.barh(stacked=True)  \n",
    "plt.tight_layout()\n",
    "plt.legend(loc='center left', bbox_to_anchor=(1, 0.5))\n",
    "# plt.xlabel('sample num')\n",
    "plt.savefig(f\"./imgs/cifar100_unbalance_iid_unbalance_sgm_0.3_100clients.png\", dpi=400, bbox_inches = 'tight')"
   ],
   "outputs": []
  },
  {
   "cell_type": "code",
   "execution_count": 12,
   "metadata": {},
   "source": [
    "# plot sample number distribution for clients\n",
    "clt_sample_num_df = unbalance_iid_part.client_sample_count\n",
    "sns.histplot(data=clt_sample_num_df, \n",
    "             x=\"num_samples\", \n",
    "             edgecolor='none', \n",
    "             alpha=0.7, \n",
    "             shrink=0.95,\n",
    "             color=hist_color)\n",
    "plt.savefig(f\"./imgs/cifar100_unbalance_iid_unbalance_sgm_0.3_100clients_dist.png\", dpi=400, bbox_inches = 'tight')"
   ],
   "outputs": []
  },
  {
   "attachments": {},
   "cell_type": "markdown",
   "metadata": {},
   "source": [
    "# Balanced Dirichlet"
   ]
  },
  {
   "cell_type": "code",
   "execution_count": 13,
   "metadata": {},
   "source": [
    "balance_dir_part = CIFAR100Partitioner(trainset.targets, \n",
    "                                num_clients,\n",
    "                                balance=True, \n",
    "                                partition=\"dirichlet\",\n",
    "                                dir_alpha=0.3,\n",
    "                                seed=seed)\n",
    "# # save to pkl file\n",
    "# torch.save(balance_dir_part.client_dict, \"cifar100_balance_dir.pkl\")\n",
    "print(len(balance_dir_part))"
   ],
   "outputs": []
  },
  {
   "cell_type": "code",
   "execution_count": 14,
   "metadata": {},
   "source": [
    "# generate partition report\n",
    "csv_file = \"./partition-reports/cifar100_balance_dir_alpha_0.3_100clients.csv\"\n",
    "partition_report(trainset.targets, balance_dir_part.client_dict, \n",
    "                 class_num=num_classes, \n",
    "                 verbose=False, file=csv_file)\n",
    "\n",
    "balance_dir_part_df = pd.read_csv(csv_file,header=1)\n",
    "balance_dir_part_df = balance_dir_part_df.set_index('client')\n",
    "for col in col_names:\n",
    "    balance_dir_part_df[col] = (balance_dir_part_df[col] * balance_dir_part_df['Amount']).astype(int)\n",
    "\n",
    "# select first 10 clients for bar plot\n",
    "balance_dir_part_df[display_col_names].iloc[:10].plot.barh(stacked=True)  \n",
    "# plt.tight_layout()\n",
    "plt.legend(loc='center left', bbox_to_anchor=(1, 0.5))\n",
    "plt.xlabel('sample num')\n",
    "plt.savefig(f\"./imgs/cifar100_balance_dir_alpha_0.3_100clients.png\", dpi=400, bbox_inches = 'tight')"
   ],
   "outputs": []
  },
  {
   "cell_type": "code",
   "execution_count": null,
   "metadata": {},
   "source": [],
   "outputs": []
  },
  {
   "attachments": {},
   "cell_type": "markdown",
   "metadata": {},
   "source": [
    "# Unbalanced Dirichlet"
   ]
  },
  {
   "cell_type": "code",
   "execution_count": null,
   "metadata": {},
   "source": [
    "unbalance_dir_part = CIFAR100Partitioner(trainset.targets, \n",
    "                                num_clients,\n",
    "                                balance=False, \n",
    "                                partition=\"dirichlet\",\n",
    "                                unbalance_sgm=0.3,\n",
    "                                dir_alpha=0.3,\n",
    "                                seed=2020)\n",
    "# # save to pkl file\n",
    "# torch.save(unbalance_dir_part.client_dict, \"cifar100_unbalance_dir.pkl\")\n",
    "print(len(unbalance_dir_part))"
   ],
   "outputs": []
  },
  {
   "cell_type": "code",
   "execution_count": 19,
   "metadata": {},
   "source": [
    "# generate partition report\n",
    "csv_file = \"./partition-reports/cifar100_unbalance_dir_alpha_0.3_unbalance_sgm_0.3_100clients.csv\"\n",
    "partition_report(trainset.targets, unbalance_dir_part.client_dict, \n",
    "                 class_num=num_classes, \n",
    "                 verbose=False, file=csv_file)\n",
    "\n",
    "unbalance_dir_part_df = pd.read_csv(csv_file,header=1)\n",
    "unbalance_dir_part_df = unbalance_dir_part_df.set_index('client')\n",
    "for col in col_names:\n",
    "    unbalance_dir_part_df[col] = (unbalance_dir_part_df[col] * unbalance_dir_part_df['Amount']).astype(int)\n",
    "\n",
    "# select first 10 clients for bar plot\n",
    "unbalance_dir_part_df[display_col_names].iloc[:10].plot.barh(stacked=True)  \n",
    "# plt.tight_layout()\n",
    "plt.legend(loc='center left', bbox_to_anchor=(1, 0.5))\n",
    "plt.xlabel('sample num')\n",
    "plt.savefig(f\"./imgs/cifar100_unbalance_dir_alpha_0.3_unbalance_sgm_0.3_100clients.png\", dpi=400, bbox_inches = 'tight')"
   ],
   "outputs": []
  },
  {
   "cell_type": "code",
   "execution_count": 20,
   "metadata": {},
   "source": [
    "# plot sample number distribution for clients\n",
    "clt_sample_num_df = unbalance_dir_part.client_sample_count\n",
    "sns.histplot(data=clt_sample_num_df, \n",
    "             x=\"num_samples\", \n",
    "             edgecolor='none', \n",
    "             alpha=0.7, \n",
    "             shrink=0.95,\n",
    "             color=hist_color)\n",
    "plt.savefig(f\"./imgs/cifar100_unbalance_dir_alpha_0.3_unbalance_sgm_0.3_100clients_dist.png\", dpi=400, bbox_inches = 'tight')"
   ],
   "outputs": []
  },
  {
   "cell_type": "code",
   "execution_count": null,
   "metadata": {},
   "source": [],
   "outputs": []
  }
 ],
 "metadata": {
  "kernelspec": {
   "display_name": "Python 3.10.4 ('fedlab')",
   "language": "python",
   "name": "python3"
  },
  "language_info": {
   "codemirror_mode": {
    "name": "ipython",
    "version": 3
   },
   "file_extension": ".py",
   "mimetype": "text/x-python",
   "name": "python",
   "nbconvert_exporter": "python",
   "pygments_lexer": "ipython3",
   "version": "3.10.4"
  },
  "toc": {
   "base_numbering": 1,
   "nav_menu": {},
   "number_sections": true,
   "sideBar": true,
   "skip_h1_title": false,
   "title_cell": "Table of Contents",
   "title_sidebar": "Contents",
   "toc_cell": false,
   "toc_position": {
    "height": "calc(100% - 180px)",
    "left": "10px",
    "top": "150px",
    "width": "232.727px"
   },
   "toc_section_display": true,
   "toc_window_display": true
  },
  "vscode": {
   "interpreter": {
    "hash": "3ba7c791aa8d51007ff2c2ccf5bd0ffd8f40e8d3627fc5a38f863bdac0d8711e"
   }
  }
 },
 "nbformat": 4,
 "nbformat_minor": 4
}
