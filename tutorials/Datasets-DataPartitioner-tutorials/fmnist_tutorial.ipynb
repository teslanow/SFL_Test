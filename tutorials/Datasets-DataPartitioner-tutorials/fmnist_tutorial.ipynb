{
 "cells": [
  {
   "cell_type": "code",
   "execution_count": 1,
   "metadata": {},
   "source": [
    "from matplotlib import pyplot as plt\n",
    "import seaborn as sns\n",
    "import pandas as pd\n",
    "import numpy as np\n",
    "from math import sqrt\n",
    "\n",
    "import sys\n",
    "sys.path.append('../../../')\n",
    "\n",
    "from fedlab.utils.dataset import FMNISTPartitioner\n",
    "from fedlab.utils.functional import partition_report\n",
    "\n",
    "import torch\n",
    "from torch.utils.data import DataLoader\n",
    "from torchvision.datasets import FashionMNIST\n",
    "import torchvision.transforms as transforms"
   ],
   "outputs": []
  },
  {
   "cell_type": "code",
   "execution_count": 2,
   "metadata": {},
   "source": [
    "%matplotlib inline"
   ],
   "outputs": []
  },
  {
   "attachments": {},
   "cell_type": "markdown",
   "metadata": {},
   "source": [
    "# Load Data"
   ]
  },
  {
   "cell_type": "code",
   "execution_count": 3,
   "metadata": {},
   "source": [
    "root = \"../../../../data/FMNIST\"\n",
    "trainset = FashionMNIST(root=root, train=True, download=True)"
   ],
   "outputs": []
  },
  {
   "cell_type": "code",
   "execution_count": 4,
   "metadata": {},
   "source": [
    "def dict_value2key(d, value):\n",
    "    return list(d.keys())[list(d.values()).index(value)]"
   ],
   "outputs": []
  },
  {
   "attachments": {},
   "cell_type": "markdown",
   "metadata": {},
   "source": [
    "Original data visualization:"
   ]
  },
  {
   "cell_type": "code",
   "execution_count": 5,
   "metadata": {},
   "source": [
    "class_to_idx = trainset.class_to_idx\n",
    "\n",
    "fig = plt.figure(figsize=(15, 10))\n",
    "\n",
    "for idx in range(20):\n",
    "    ax = fig.add_subplot(4, 20/4, idx+1, xticks=[], yticks=[])\n",
    "    ax.imshow(np.squeeze(trainset[idx][0]), cmap='viridis')\n",
    "    cls_name = dict_value2key(class_to_idx, trainset[idx][1])\n",
    "    ax.set_title(f\"{cls_name}\")\n",
    "    ax.patch.set_facecolor('white')\n",
    "    fig.tight_layout()\n",
    "    \n",
    "fig.savefig(\"../imgs/fmnist_vis.png\", dpi=400, bbox_inches = 'tight')"
   ],
   "outputs": []
  },
  {
   "attachments": {},
   "cell_type": "markdown",
   "metadata": {},
   "source": [
    "# Data Partition"
   ]
  },
  {
   "cell_type": "code",
   "execution_count": 6,
   "metadata": {},
   "source": [
    "num_classes = 10\n",
    "num_clients = 10\n",
    "seed = 2021\n",
    "\n",
    "col_names = [f\"class{i}\" for i in range(num_classes)]\n",
    "\n",
    "hist_color = '#4169E1'\n",
    "plt.rcParams['figure.facecolor'] = 'white'"
   ],
   "outputs": []
  },
  {
   "attachments": {},
   "cell_type": "markdown",
   "metadata": {},
   "source": [
    "## Label Distribution Skew\n",
    "### Quantity-based"
   ]
  },
  {
   "attachments": {},
   "cell_type": "markdown",
   "metadata": {},
   "source": [
    "1. When \\#C=1:"
   ]
  },
  {
   "cell_type": "code",
   "execution_count": 7,
   "metadata": {},
   "source": [
    "# perform partition\n",
    "noniid_major_label_part = FMNISTPartitioner(trainset.targets, \n",
    "                                           num_clients=num_clients,\n",
    "                                           partition=\"noniid-#label\", \n",
    "                                           major_classes_num=1,\n",
    "                                           seed=seed)\n",
    "\n",
    "# generate partition report\n",
    "csv_file = \"../partition-reports/fmnist_noniid-label_1_clients_10.csv\"\n",
    "partition_report(trainset.targets, noniid_major_label_part.client_dict, \n",
    "                 class_num=num_classes, \n",
    "                 verbose=False, file=csv_file)\n",
    "\n",
    "noniid_major_label_part_df = pd.read_csv(csv_file,header=1)\n",
    "noniid_major_label_part_df = noniid_major_label_part_df.set_index('client')\n",
    "for col in col_names:\n",
    "    noniid_major_label_part_df[col] = (noniid_major_label_part_df[col] * noniid_major_label_part_df['Amount']).astype(int)\n",
    "\n",
    "# select first 10 clients for bar plot\n",
    "noniid_major_label_part_df[col_names].plot.barh(stacked=True)  \n",
    "# plt.tight_layout()\n",
    "plt.legend(loc='center left', bbox_to_anchor=(1, 0.5))\n",
    "plt.xlabel('sample num')\n",
    "plt.savefig(f\"../imgs/fmnist_noniid-label_1_clients_10.png\", \n",
    "            dpi=400, bbox_inches = 'tight')"
   ],
   "outputs": []
  },
  {
   "attachments": {},
   "cell_type": "markdown",
   "metadata": {},
   "source": [
    "2. \\#C=2"
   ]
  },
  {
   "cell_type": "code",
   "execution_count": 8,
   "metadata": {},
   "source": [
    "# perform partition\n",
    "noniid_major_label_part = FMNISTPartitioner(trainset.targets, \n",
    "                                           num_clients=num_clients,\n",
    "                                           partition=\"noniid-#label\", \n",
    "                                           major_classes_num=2,\n",
    "                                           seed=seed)\n",
    "\n",
    "# generate partition report\n",
    "csv_file = \"../partition-reports/fmnist_noniid-label_2_clients_10.csv\"\n",
    "partition_report(trainset.targets, noniid_major_label_part.client_dict, \n",
    "                 class_num=num_classes, \n",
    "                 verbose=False, file=csv_file)\n",
    "\n",
    "noniid_major_label_part_df = pd.read_csv(csv_file,header=1)\n",
    "noniid_major_label_part_df = noniid_major_label_part_df.set_index('client')\n",
    "for col in col_names:\n",
    "    noniid_major_label_part_df[col] = (noniid_major_label_part_df[col] * noniid_major_label_part_df['Amount']).astype(int)\n",
    "\n",
    "# select first 10 clients for bar plot\n",
    "noniid_major_label_part_df[col_names].plot.barh(stacked=True)  \n",
    "# plt.tight_layout()\n",
    "plt.legend(loc='center left', bbox_to_anchor=(1, 0.5))\n",
    "plt.xlabel('sample num')\n",
    "plt.savefig(f\"../imgs/fmnist_noniid-label_2_clients_10.png\", \n",
    "            dpi=400, bbox_inches = 'tight')"
   ],
   "outputs": []
  },
  {
   "attachments": {},
   "cell_type": "markdown",
   "metadata": {},
   "source": [
    "3. \\#C=3"
   ]
  },
  {
   "cell_type": "code",
   "execution_count": 9,
   "metadata": {},
   "source": [
    "# perform partition\n",
    "noniid_major_label_part = FMNISTPartitioner(trainset.targets, \n",
    "                                           num_clients=num_clients,\n",
    "                                           partition=\"noniid-#label\", \n",
    "                                           major_classes_num=3,\n",
    "                                           seed=seed)\n",
    "\n",
    "# generate partition report\n",
    "csv_file = \"../partition-reports/fmnist_noniid-label_3_clients_10.csv\"\n",
    "partition_report(trainset.targets, noniid_major_label_part.client_dict, \n",
    "                 class_num=num_classes, \n",
    "                 verbose=False, file=csv_file)\n",
    "\n",
    "noniid_major_label_part_df = pd.read_csv(csv_file,header=1)\n",
    "noniid_major_label_part_df = noniid_major_label_part_df.set_index('client')\n",
    "for col in col_names:\n",
    "    noniid_major_label_part_df[col] = (noniid_major_label_part_df[col] * noniid_major_label_part_df['Amount']).astype(int)\n",
    "\n",
    "# select first 10 clients for bar plot\n",
    "noniid_major_label_part_df[col_names].plot.barh(stacked=True)  \n",
    "# plt.tight_layout()\n",
    "plt.legend(loc='center left', bbox_to_anchor=(1, 0.5))\n",
    "plt.xlabel('sample num')\n",
    "plt.savefig(f\"../imgs/fmnist_noniid-label_3_clients_10.png\", \n",
    "            dpi=400, bbox_inches = 'tight')"
   ],
   "outputs": []
  },
  {
   "attachments": {},
   "cell_type": "markdown",
   "metadata": {},
   "source": [
    "### Distribution-based (Dirichlet)"
   ]
  },
  {
   "cell_type": "code",
   "execution_count": 10,
   "metadata": {},
   "source": [
    "# perform partition\n",
    "noniid_labeldir_part = FMNISTPartitioner(trainset.targets, \n",
    "                                        num_clients=num_clients,\n",
    "                                        partition=\"noniid-labeldir\", \n",
    "                                        dir_alpha=0.5,\n",
    "                                        seed=seed)\n",
    "\n",
    "# generate partition report\n",
    "csv_file = \"../partition-reports/fmnist_noniid_labeldir_clients_10.csv\"\n",
    "partition_report(trainset.targets, noniid_labeldir_part.client_dict, \n",
    "                 class_num=num_classes, \n",
    "                 verbose=False, file=csv_file)\n",
    "\n",
    "noniid_labeldir_part_df = pd.read_csv(csv_file,header=1)\n",
    "noniid_labeldir_part_df = noniid_labeldir_part_df.set_index('client')\n",
    "for col in col_names:\n",
    "    noniid_labeldir_part_df[col] = (noniid_labeldir_part_df[col] * noniid_labeldir_part_df['Amount']).astype(int)\n",
    "\n",
    "# select first 10 clients for bar plot\n",
    "noniid_labeldir_part_df[col_names].plot.barh(stacked=True)  \n",
    "# plt.tight_layout()\n",
    "plt.legend(loc='center left', bbox_to_anchor=(1, 0.5))\n",
    "plt.xlabel('sample num')\n",
    "plt.savefig(f\"../imgs/fmnist_noniid_labeldir_clients_10.png\", \n",
    "            dpi=400, bbox_inches = 'tight')"
   ],
   "outputs": []
  },
  {
   "attachments": {},
   "cell_type": "markdown",
   "metadata": {},
   "source": [
    "## Feature Distribution Skew\n",
    "### Noise-based"
   ]
  },
  {
   "cell_type": "code",
   "execution_count": 11,
   "metadata": {},
   "source": [
    "# this class is from NIID-bench official code: \n",
    "# https://github.com/Xtra-Computing/NIID-Bench/blob/main/utils.py\n",
    "class AddGaussianNoise(object):\n",
    "    def __init__(self, mean=0., std=1., net_id=None, total=0):\n",
    "        self.std = std\n",
    "        self.mean = mean\n",
    "        self.net_id = net_id\n",
    "        self.num = int(sqrt(total))\n",
    "        if self.num * self.num < total:\n",
    "            self.num = self.num + 1\n",
    "\n",
    "    def __call__(self, tensor):\n",
    "        if self.net_id is None:\n",
    "            return tensor + torch.randn(tensor.size()) * self.std + self.mean\n",
    "        else:\n",
    "            tmp = torch.randn(tensor.size())\n",
    "            filt = torch.zeros(tensor.size())\n",
    "            size = int(28 / self.num)\n",
    "            row = int(self.net_id / size)\n",
    "            col = self.net_id % size\n",
    "            for i in range(size):\n",
    "                for j in range(size):\n",
    "                    filt[:, row * size + i, col * size + j] = 1\n",
    "            tmp = tmp * filt\n",
    "            return tensor + tmp * self.std + self.mean\n",
    "\n",
    "    def __repr__(self):\n",
    "        return self.__class__.__name__ + '(mean={0}, std={1})'.format(self.mean, self.std)\n"
   ],
   "outputs": []
  },
  {
   "cell_type": "code",
   "execution_count": 12,
   "metadata": {},
   "source": [
    "noise = 0.1\n",
    "num_clients = 10\n",
    "img_idx = 17\n",
    "\n",
    "fig = plt.figure(figsize=(15, 10))\n",
    "\n",
    "for cid in range(num_clients):\n",
    "    if cid == num_clients - 1:\n",
    "        noise_level = 0\n",
    "    else:\n",
    "        noise_level = noise / num_clients * (cid + 1)  # a little different from original NIID-bench\n",
    "    transform = transforms.Compose([transforms.ToTensor(),\n",
    "                                    AddGaussianNoise(0., noise_level)])\n",
    "    trainset_feature_skew = FashionMNIST(root=root, train=True, download=True, \n",
    "                                         transform=transform)\n",
    "    ax = fig.add_subplot(2, num_clients/2, cid + 1, xticks=[], yticks=[])\n",
    "    ax.imshow(np.squeeze(trainset_feature_skew[img_idx][0]), cmap='viridis')\n",
    "    ax.set_title(f\"Client {cid}: noise$\\sim$Gau({noise_level:.3f})\")\n",
    "    ax.patch.set_facecolor('white')\n",
    "    fig.tight_layout()\n",
    "    \n",
    "fig.savefig(\"../imgs/fmnist_feature_skew_vis.png\", dpi=400, bbox_inches = 'tight')"
   ],
   "outputs": []
  },
  {
   "attachments": {},
   "cell_type": "markdown",
   "metadata": {},
   "source": [
    "We also provide demo of \"feature distribution kew\"-\"noise-based\" FedAvg on FMNIST: [feature-skew-fedavg](../../feature-skew-fedavg/).\n",
    "\n",
    "- Top-1 accuracy for FMNIST in paper: $89.1\\% \\pm 0.3\\%$.\n",
    "- Top-1 accuracy for FMNIST in this demo: $89.37\\% \\pm 0.14 \\%$ (5 runs).\n",
    "\n",
    "For more details, please check [demo README.md](../../feature-skew-fedavg/README.md)."
   ]
  },
  {
   "attachments": {},
   "cell_type": "markdown",
   "metadata": {},
   "source": [
    "### Synthetic\n",
    "\n",
    "FMNIST does not support \"feature distribution skew\"-\"synthetic\" partition.\n",
    "\n",
    "### Real\n",
    "\n",
    "FMNIST does not support \"feature distribution skew\"-\"real\" partition.\n",
    "\n",
    "## Quantity Skew (Dirichlet)"
   ]
  },
  {
   "cell_type": "code",
   "execution_count": 13,
   "metadata": {},
   "source": [
    "# perform partition\n",
    "unbalance_part = FMNISTPartitioner(trainset.targets, \n",
    "                                  num_clients=num_clients,\n",
    "                                  partition=\"unbalance\", \n",
    "                                  dir_alpha=0.5,\n",
    "                                  seed=seed)\n",
    "\n",
    "# generate partition report\n",
    "csv_file = \"../partition-reports/fmnist_unbalance_clients_10.csv\"\n",
    "partition_report(trainset.targets, unbalance_part.client_dict, \n",
    "                 class_num=num_classes, \n",
    "                 verbose=False, file=csv_file)\n",
    "\n",
    "unbalance_part_df = pd.read_csv(csv_file,header=1)\n",
    "unbalance_part_df = unbalance_part_df.set_index('client')\n",
    "for col in col_names:\n",
    "    unbalance_part_df[col] = (unbalance_part_df[col] * unbalance_part_df['Amount']).astype(int)\n",
    "\n",
    "# select first 10 clients for bar plot\n",
    "unbalance_part_df[col_names].plot.barh(stacked=True)  \n",
    "# plt.tight_layout()\n",
    "plt.legend(loc='center left', bbox_to_anchor=(1, 0.5))\n",
    "plt.xlabel('sample num')\n",
    "plt.savefig(f\"../imgs/fmnist_unbalance_clients_10.png\", \n",
    "            dpi=400, bbox_inches = 'tight')"
   ],
   "outputs": []
  },
  {
   "attachments": {},
   "cell_type": "markdown",
   "metadata": {},
   "source": [
    "## IID"
   ]
  },
  {
   "cell_type": "code",
   "execution_count": 14,
   "metadata": {},
   "source": [
    "# perform partition\n",
    "iid_part = FMNISTPartitioner(trainset.targets, \n",
    "                            num_clients=num_clients,\n",
    "                            partition=\"iid\",\n",
    "                            seed=seed)\n",
    "\n",
    "# generate partition report\n",
    "csv_file = \"../partition-reports/fmnist_iid_clients_10.csv\"\n",
    "partition_report(trainset.targets, iid_part.client_dict, \n",
    "                 class_num=num_classes, \n",
    "                 verbose=False, file=csv_file)\n",
    "\n",
    "iid_part_df = pd.read_csv(csv_file,header=1)\n",
    "iid_part_df = iid_part_df.set_index('client')\n",
    "for col in col_names:\n",
    "    iid_part_df[col] = (iid_part_df[col] * iid_part_df['Amount']).astype(int)\n",
    "\n",
    "# select first 10 clients for bar plot\n",
    "iid_part_df[col_names].plot.barh(stacked=True)  \n",
    "# plt.tight_layout()\n",
    "plt.legend(loc='center left', bbox_to_anchor=(1, 0.5))\n",
    "plt.xlabel('sample num')\n",
    "plt.savefig(f\"../imgs/fmnist_iid_clients_10.png\", \n",
    "            dpi=400, bbox_inches = 'tight')"
   ],
   "outputs": []
  },
  {
   "attachments": {},
   "cell_type": "markdown",
   "metadata": {},
   "source": [
    "# References\n",
    "\n",
    "- Li, Q., Diao, Y., Chen, Q., & He, B. (2021). Federated learning on non-iid data silos: An experimental study. arXiv preprint arXiv:2102.02079."
   ]
  },
  {
   "cell_type": "code",
   "execution_count": null,
   "metadata": {},
   "source": [],
   "outputs": []
  }
 ],
 "metadata": {
  "kernelspec": {
   "display_name": "Python [conda env:tf_torch]",
   "language": "python",
   "name": "conda-env-tf_torch-py"
  },
  "language_info": {
   "codemirror_mode": {
    "name": "ipython",
    "version": 3
   },
   "file_extension": ".py",
   "mimetype": "text/x-python",
   "name": "python",
   "nbconvert_exporter": "python",
   "pygments_lexer": "ipython3",
   "version": "3.8.10"
  },
  "toc": {
   "base_numbering": 1,
   "nav_menu": {},
   "number_sections": true,
   "sideBar": true,
   "skip_h1_title": false,
   "title_cell": "Table of Contents",
   "title_sidebar": "Contents",
   "toc_cell": false,
   "toc_position": {
    "height": "calc(100% - 180px)",
    "left": "10px",
    "top": "150px",
    "width": "232.727px"
   },
   "toc_section_display": true,
   "toc_window_display": true
  }
 },
 "nbformat": 4,
 "nbformat_minor": 4
}
