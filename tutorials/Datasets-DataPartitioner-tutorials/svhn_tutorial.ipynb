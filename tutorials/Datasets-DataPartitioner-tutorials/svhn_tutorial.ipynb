{
 "cells": [
  {
   "cell_type": "code",
   "execution_count": 1,
   "metadata": {},
   "source": [
    "from matplotlib import pyplot as plt\n",
    "import seaborn as sns\n",
    "import pandas as pd\n",
    "import numpy as np\n",
    "from math import sqrt\n",
    "\n",
    "import sys\n",
    "sys.path.append('../../../')\n",
    "\n",
    "from fedlab.utils.dataset import SVHNPartitioner\n",
    "from fedlab.utils.functional import partition_report\n",
    "\n",
    "import torch\n",
    "from torch.utils.data import DataLoader\n",
    "from torchvision.datasets import SVHN\n",
    "from torchvision.utils import make_grid\n",
    "import torchvision.transforms as transforms"
   ],
   "outputs": []
  },
  {
   "cell_type": "code",
   "execution_count": 2,
   "metadata": {},
   "source": [
    "%matplotlib inline\n",
    "\n",
    "def dict_value2key(d, value):\n",
    "    return list(d.keys())[list(d.values()).index(value)]"
   ],
   "outputs": []
  },
  {
   "attachments": {},
   "cell_type": "markdown",
   "metadata": {},
   "source": [
    "# Load Data"
   ]
  },
  {
   "cell_type": "code",
   "execution_count": 3,
   "metadata": {},
   "source": [
    "root = \"../../../../data/SVHN\"\n",
    "transform = transforms.Compose([transforms.ToTensor(),\n",
    "                                      transforms.Normalize(\n",
    "                                          mean=(0.5, 0.5, 0.5),\n",
    "                                          std=(0.5, 0.5, 0.5))])\n",
    "trainset = SVHN(root=root, split='train', download=True, transform=transforms.ToTensor())"
   ],
   "outputs": []
  },
  {
   "cell_type": "code",
   "execution_count": 4,
   "metadata": {},
   "source": [
    "fig = plt.figure(figsize=(15, 10))\n",
    "\n",
    "for idx in range(20):\n",
    "    ax = fig.add_subplot(4, 20/4, idx+1, xticks=[], yticks=[])\n",
    "    ax.imshow(trainset[idx][0].permute(1,2,0))\n",
    "    cls_name = trainset[idx][1]\n",
    "    ax.set_title(f\"{cls_name}\")\n",
    "    ax.patch.set_facecolor('white')\n",
    "    fig.tight_layout()\n",
    "    \n",
    "fig.savefig(\"../imgs/svhn_vis.png\", dpi=400, bbox_inches = 'tight')"
   ],
   "outputs": []
  },
  {
   "attachments": {},
   "cell_type": "markdown",
   "metadata": {},
   "source": [
    "# Data Partition"
   ]
  },
  {
   "cell_type": "code",
   "execution_count": 5,
   "metadata": {},
   "source": [
    "num_classes = 10\n",
    "num_clients = 10\n",
    "seed = 2021\n",
    "\n",
    "col_names = [f\"class{i}\" for i in range(num_classes)]\n",
    "\n",
    "hist_color = '#4169E1'\n",
    "plt.rcParams['figure.facecolor'] = 'white'"
   ],
   "outputs": []
  },
  {
   "cell_type": "code",
   "execution_count": 6,
   "metadata": {},
   "source": [
    "# this class is from NIID-bench official code: \n",
    "# https://github.com/Xtra-Computing/NIID-Bench/blob/main/utils.py\n",
    "class AddGaussianNoise(object):\n",
    "    def __init__(self, mean=0., std=1., net_id=None, total=0):\n",
    "        self.std = std\n",
    "        self.mean = mean\n",
    "        self.net_id = net_id\n",
    "        self.num = int(sqrt(total))\n",
    "        if self.num * self.num < total:\n",
    "            self.num = self.num + 1\n",
    "\n",
    "    def __call__(self, tensor):\n",
    "        if self.net_id is None:\n",
    "            return tensor + torch.randn(tensor.size()) * self.std + self.mean\n",
    "        else:\n",
    "            tmp = torch.randn(tensor.size())\n",
    "            filt = torch.zeros(tensor.size())\n",
    "            size = int(28 / self.num)\n",
    "            row = int(self.net_id / size)\n",
    "            col = self.net_id % size\n",
    "            for i in range(size):\n",
    "                for j in range(size):\n",
    "                    filt[:, row * size + i, col * size + j] = 1\n",
    "            tmp = tmp * filt\n",
    "            return tensor + tmp * self.std + self.mean\n",
    "\n",
    "    def __repr__(self):\n",
    "        return self.__class__.__name__ + '(mean={0}, std={1})'.format(self.mean, self.std)\n"
   ],
   "outputs": []
  },
  {
   "attachments": {},
   "cell_type": "markdown",
   "metadata": {},
   "source": [
    "Here we only show \"feature distribution skew\"-\"noise based\" visualization result, since other partitions are similar with [FMNIST](../fmnist/fmnist_tutorial.ipynb)."
   ]
  },
  {
   "cell_type": "code",
   "execution_count": 7,
   "metadata": {},
   "source": [
    "noise = 0.1\n",
    "num_clients = 10\n",
    "img_idx = 3\n",
    "\n",
    "fig = plt.figure(figsize=(15, 10))\n",
    "\n",
    "for cid in range(num_clients):\n",
    "    if cid == num_clients - 1:\n",
    "        noise_level = 0\n",
    "    else:\n",
    "        noise_level = noise / num_clients * (cid + 1)  # a little different from original NIID-bench\n",
    "    transform = transforms.Compose([transforms.ToTensor(),\n",
    "                                    AddGaussianNoise(0., noise_level)])\n",
    "    trainset_feature_skew = SVHN(root=root, split='train', download=False, \n",
    "                                         transform=transform)\n",
    "    ax = fig.add_subplot(2, num_clients/2, cid + 1, xticks=[], yticks=[])\n",
    "    ax.imshow(trainset_feature_skew[img_idx][0].permute(1,2,0))\n",
    "    ax.set_title(f\"Client {cid}: noise$\\sim$Gau({noise_level:.3f})\")\n",
    "    ax.patch.set_facecolor('white')\n",
    "    fig.tight_layout()\n",
    "\n",
    "print(f\"Label: {trainset_feature_skew[img_idx][1]}\")\n",
    "fig.savefig(\"../imgs/svhn_feature_skew_vis.png\", dpi=400, bbox_inches = 'tight')"
   ],
   "outputs": []
  },
  {
   "cell_type": "code",
   "execution_count": null,
   "metadata": {},
   "source": [],
   "outputs": []
  }
 ],
 "metadata": {
  "kernelspec": {
   "display_name": "Python 3.10.4 ('fedlab')",
   "language": "python",
   "name": "python3"
  },
  "language_info": {
   "codemirror_mode": {
    "name": "ipython",
    "version": 3
   },
   "file_extension": ".py",
   "mimetype": "text/x-python",
   "name": "python",
   "nbconvert_exporter": "python",
   "pygments_lexer": "ipython3",
   "version": "3.10.4"
  },
  "toc": {
   "base_numbering": 1,
   "nav_menu": {},
   "number_sections": true,
   "sideBar": true,
   "skip_h1_title": false,
   "title_cell": "Table of Contents",
   "title_sidebar": "Contents",
   "toc_cell": false,
   "toc_position": {},
   "toc_section_display": true,
   "toc_window_display": true
  },
  "vscode": {
   "interpreter": {
    "hash": "3ba7c791aa8d51007ff2c2ccf5bd0ffd8f40e8d3627fc5a38f863bdac0d8711e"
   }
  }
 },
 "nbformat": 4,
 "nbformat_minor": 4
}
